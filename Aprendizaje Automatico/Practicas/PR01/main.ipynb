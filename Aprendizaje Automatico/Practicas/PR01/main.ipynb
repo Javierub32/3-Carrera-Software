{
 "cells": [
  {
   "cell_type": "code",
   "execution_count": null,
   "id": "a2d5d857",
   "metadata": {
    "vscode": {
     "languageId": "plaintext"
    }
   },
   "outputs": [],
   "source": [
    "print(\"hola mundo\")\n",
    "# COmentario 1"
   ]
  }
 ],
 "metadata": {
  "language_info": {
   "name": "python"
  }
 },
 "nbformat": 4,
 "nbformat_minor": 5
}
